{
 "cells": [
  {
   "cell_type": "markdown",
   "metadata": {},
   "source": [
    "# Bayes Factors with Approximate Bayesian Computation\n",
    "\n",
    "In our work, we have two or more probabilistic models on permutation spaces which we could use to describe the experimental data we have collected from the comparison of several algorithms. The problem we are faced with is to choose among these models, i.e., to determine which one of these models fits the data better. \n",
    "\n",
    "A number of different approaches can be used to accomplish this goal, for example, Bayes Factors. This approach have a number of difficulties to consider and several sensible and informed decisions have to be made with careful consideration to what kind of analysis and data we are dealing with. In this Notebook, we are illustrating the use of Bayes' factors for model selection as a form of generic example using Bayesian Approximate Computation."
   ]
  },
  {
   "cell_type": "markdown",
   "metadata": {},
   "source": [
    "## General imports"
   ]
  },
  {
   "cell_type": "code",
   "execution_count": 1,
   "metadata": {},
   "outputs": [],
   "source": [
    "import matplotlib.pyplot as plt\n",
    "import itertools\n",
    "import pandas as pd\n",
    "import numpy as np\n",
    "import seaborn as sns"
   ]
  },
  {
   "cell_type": "code",
   "execution_count": 2,
   "metadata": {},
   "outputs": [],
   "source": [
    "import matplotlib\n",
    "\n",
    "matplotlib.rcParams['mathtext.fontset'] = 'stix'\n",
    "matplotlib.rcParams['font.family'] = 'STIXGeneral'"
   ]
  },
  {
   "cell_type": "code",
   "execution_count": 3,
   "metadata": {},
   "outputs": [
    {
     "name": "stderr",
     "output_type": "stream",
     "text": [
      "/home/jrojasdelgado/.local/lib/python3.8/site-packages/numpy/core/_asarray.py:83: VisibleDeprecationWarning: Creating an ndarray from ragged nested sequences (which is a list-or-tuple of lists-or-tuples-or ndarrays with different lengths or shapes) is deprecated. If you meant to do this, you must specify 'dtype=object' when creating the ndarray\n",
      "  return array(a, dtype, copy=False, order=order)\n"
     ]
    }
   ],
   "source": [
    "from LocalBayesPermus.models.PlackettLuce import PlackettLuceDirichlet\n",
    "from LocalBayesPermus.models.PlackettLuce import PlackettLuceGamma\n",
    "from LocalBayesPermus.models.BradleyTerry import BradleyTerry\n",
    "from LocalBayesPermus.models.MallowsModel import MallowsModel\n",
    "from LocalBayesPermus.figure.plot import Plot"
   ]
  },
  {
   "cell_type": "markdown",
   "metadata": {},
   "source": [
    "## Random seed"
   ]
  },
  {
   "cell_type": "code",
   "execution_count": 4,
   "metadata": {},
   "outputs": [],
   "source": [
    "seed = 1"
   ]
  },
  {
   "cell_type": "code",
   "execution_count": 5,
   "metadata": {},
   "outputs": [],
   "source": [
    "np.random.seed(seed)"
   ]
  },
  {
   "cell_type": "markdown",
   "metadata": {},
   "source": [
    "## Preliminaries"
   ]
  },
  {
   "cell_type": "code",
   "execution_count": 6,
   "metadata": {},
   "outputs": [
    {
     "name": "stderr",
     "output_type": "stream",
     "text": [
      "INFO:pystan:COMPILING THE C++ CODE FOR MODEL anon_model_b326804ba86183a25486c960b7b53e53 NOW.\n",
      "INFO:pystan:COMPILING THE C++ CODE FOR MODEL anon_model_bbca5f288725f8af3b4a4302d7710bf4 NOW.\n"
     ]
    }
   ],
   "source": [
    "bradleyTerry = BradleyTerry([1], num_samples=1000, seed=seed)\n",
    "placettLuceDirichlet = PlackettLuceDirichlet(alpha=[1], num_samples=1000, seed=seed)\n",
    "mallowsModel = MallowsModel(num_samples=1000, seed=seed)"
   ]
  },
  {
   "cell_type": "code",
   "execution_count": 30,
   "metadata": {},
   "outputs": [],
   "source": [
    "def get_posterior_samples(orderings, weigths, num_samples=1000):\n",
    "  num_instances, num_algorithms = orderings.shape\n",
    "\n",
    "  # Priors definition\n",
    "  dirichlet_alpha_bt = num_algorithms * [1]\n",
    "  dirichlet_alpha_pl = num_algorithms * [1]\n",
    "  gamma_alpha_pl = 0.5\n",
    "  gamma_beta_pl = 0.5\n",
    "    \n",
    "  # Update model priors and other hyper-parameters\n",
    "  bradleyTerry.alpha = dirichlet_alpha_bt\n",
    "  bradleyTerry.num_samples = num_samples\n",
    "  placettLuceDirichlet.alpha = dirichlet_alpha_pl\n",
    "  placettLuceDirichlet.num_samples = num_samples\n",
    "  mallowsModel.num_samples = num_samples\n",
    "  \n",
    "  # Obtain the samples\n",
    "  bt  = bradleyTerry.sample_posterior(orderings, weigths)\n",
    "  pld = placettLuceDirichlet.sample_posterior(orderings, weigths)\n",
    "  mm = mallowsModel.sample_posterior(orderings, weigths)\n",
    "\n",
    "  return bt, pld, mm"
   ]
  },
  {
   "cell_type": "code",
   "execution_count": 10,
   "metadata": {},
   "outputs": [],
   "source": [
    "def simulate_bt(num_samples, theta):\n",
    "    n = len(theta)\n",
    "    permus = []\n",
    "    \n",
    "    for _ in range(num_samples):\n",
    "        pi = []\n",
    "        pool = [i for i in range(n)]\n",
    "        \n",
    "        while len(pi) < n:\n",
    "            probs = [np.prod([theta[i] / (theta[i] + theta[j]) for j in pool if i != j]) for i in pool]\n",
    "            probs = probs / np.sum(probs)\n",
    "            item = np.random.choice(pool, p=probs)\n",
    "            pi.append(item)\n",
    "            pool.remove(item)\n",
    "        permus.append(pi)\n",
    "    return permus"
   ]
  },
  {
   "cell_type": "code",
   "execution_count": 11,
   "metadata": {},
   "outputs": [],
   "source": [
    "def simulate_pl(num_samples, theta):\n",
    "    n = len(theta)\n",
    "    permus = []\n",
    "    \n",
    "    for _ in range(num_samples):\n",
    "        pi = []\n",
    "        pool = [i for i in range(n)]\n",
    "        \n",
    "        while len(pi) < n:\n",
    "            if len(pool) == 1:\n",
    "                probs = [1.0]\n",
    "            else:\n",
    "                probs = [theta[i] / np.sum([theta[j] for j in pool]) for i in pool]\n",
    "            item = np.random.choice(pool, p=probs)\n",
    "            pi.append(item)\n",
    "            pool.remove(item)\n",
    "        permus.append(pi)\n",
    "    return permus"
   ]
  },
  {
   "cell_type": "code",
   "execution_count": 12,
   "metadata": {},
   "outputs": [],
   "source": [
    "def simulate_mm(num_samples, center, phi):\n",
    "    permus = []\n",
    "    \n",
    "    for _ in range(num_samples):\n",
    "        num_items = len(center)\n",
    "        rng = np.arange(0, num_items - 1)\n",
    "        psi = (1 - phi ** (num_items - rng)) / (1 - phi)\n",
    "        vprobs = np.zeros((num_items, num_items))\n",
    "\n",
    "        for i in rng:\n",
    "          vprobs[i][0] = 1.0 / psi[i]\n",
    "          for j in range(1, num_items - i):\n",
    "            vprobs[i][j] = phi ** j / psi[i]\n",
    "\n",
    "        inv = [np.random.choice(num_items, p=vprobs[i,:]) for i in rng] + [0] \n",
    "        rem = list(range(num_items))\n",
    "        perm = np.full(num_items, np.nan, dtype=np.int32)\n",
    "\n",
    "        for i in range(num_items):\n",
    "          perm[i] = rem[inv[i]]\n",
    "          rem.pop(inv[i])\n",
    "\n",
    "        perm = perm[center]\n",
    "        permus.append(perm)\n",
    "    return permus"
   ]
  },
  {
   "cell_type": "code",
   "execution_count": 13,
   "metadata": {},
   "outputs": [],
   "source": [
    "def kendall( pi, eta):\n",
    "    pi = list(pi)\n",
    "    eta = list(eta)\n",
    "    \n",
    "    n = len(pi)\n",
    "    m = n * (n - 1) // 2\n",
    "    \n",
    "    pairs = itertools.combinations(range(n), 2)\n",
    "    distance = 0\n",
    "    \n",
    "    for x, y in pairs:\n",
    "        a = pi.index(x) - pi.index(y)\n",
    "        b = eta.index(x) - eta.index(y)\n",
    "        if a * b < 0:\n",
    "            distance += 1\n",
    "    return distance"
   ]
  },
  {
   "cell_type": "code",
   "execution_count": 14,
   "metadata": {},
   "outputs": [],
   "source": [
    "def margmin(D):\n",
    "    d1, d2 = D.shape\n",
    "    minval = D[0, 0]\n",
    "    mi, mj = 0, 0\n",
    "    for i in range(d1):\n",
    "        for j in range(d2):\n",
    "            if D[i, j] < minval:\n",
    "                minval = D[i, j]\n",
    "                mi, mj = i, j\n",
    "    return mi, mj"
   ]
  },
  {
   "cell_type": "code",
   "execution_count": 15,
   "metadata": {},
   "outputs": [],
   "source": [
    "def distance(real, simulated):\n",
    "    n = len(real)\n",
    "    D = np.zeros(shape=(len(real), len(simulated)), dtype=np.int32)\n",
    "    d = []\n",
    "    \n",
    "    for i, pi in enumerate(real):\n",
    "        for j, eta in enumerate(simulated):\n",
    "            D[i, j] = kendall(pi, eta)\n",
    "      \n",
    "    maxval = np.max(D)\n",
    "    while len(d) <  n:\n",
    "        mi, mj = margmin(D)\n",
    "        d.append(D[mi, mj])\n",
    "        \n",
    "        D[mi, :] = maxval\n",
    "        D[:, mj] = maxval\n",
    "    \n",
    "    return np.mean(d)"
   ]
  },
  {
   "cell_type": "code",
   "execution_count": 41,
   "metadata": {},
   "outputs": [],
   "source": [
    "def abc(epsilon, real, weigths):\n",
    "    num_samples = len(real)\n",
    "    ps_bt, ps_pl, ps_mm = get_posterior_samples(np.array(real), weigths)\n",
    "    \n",
    "    accepted_bt = 1\n",
    "    accepted_pl = 1\n",
    "    accepted_mm = 1\n",
    "    \n",
    "    for i, theta in enumerate(ps_bt):\n",
    "        print(\"\\r\", \"BT: \", i + 1, \" out of \", len(ps_bt), end=\"\")\n",
    "        simulated = simulate_bt(num_samples, theta[0])\n",
    "\n",
    "        if distance(np.array(real) - 1, simulated) < epsilon:            \n",
    "            accepted_bt += 1  \n",
    "    \n",
    "    print(\"\")\n",
    "    for i, theta in enumerate(ps_pl):\n",
    "        print(\"\\r\", \"PL: \", i + 1, \" out of \", len(ps_bt), end=\"\")\n",
    "        simulated = simulate_pl(num_samples, theta)\n",
    "        if distance(np.array(real) - 1, simulated) < epsilon:\n",
    "            accepted_pl += 1     \n",
    "        \n",
    "    print(\"\")\n",
    "    for i, (center, phi) in enumerate(ps_mm):\n",
    "        print(\"\\r\", \"MM: \", i + 1, \" out of \", len(ps_bt), end=\"\")\n",
    "        simulated = simulate_mm(num_samples, center, phi)\n",
    "        if distance(np.array(real) - 1, simulated) < epsilon:\n",
    "            accepted_mm += 1  \n",
    "    \n",
    "    return accepted_bt, accepted_pl, accepted_mm"
   ]
  },
  {
   "cell_type": "markdown",
   "metadata": {},
   "source": [
    "## Real Data Analysis"
   ]
  },
  {
   "cell_type": "code",
   "execution_count": 17,
   "metadata": {},
   "outputs": [],
   "source": [
    "from utils.Real import *"
   ]
  },
  {
   "cell_type": "code",
   "execution_count": 18,
   "metadata": {},
   "outputs": [],
   "source": [
    "# File names of the data for the different algorithms\n",
    "algorithms = ['A', 'B', 'AGA', 'VNS', 'NVNS']\n",
    "\n",
    "# Algorith names\n",
    "algorithm_names = ['GM-EDA', 'HGM-EDA', 'AGA', 'VNS', 'NVNS']\n",
    "\n",
    "# Load the data from file\n",
    "orderingsT, scoresT = load_permus_from_CEB('data/CEB19/T', algorithms)\n",
    "orderingsR, scoresR = load_permus_from_CEB('data/CEB19/R', algorithms)\n",
    "\n",
    "# Concatenate Taillard instances with the Random instances\n",
    "scores = np.concatenate((scoresT, scoresR), axis=0)\n",
    "orderings = np.concatenate((orderingsT, orderingsR), axis=0)\n",
    "\n",
    "sam_orderings, sam_scores = get_sample(orderings, scores, 200)\n",
    "counts = get_counts(sam_scores)\n",
    "sam_orderings, sam_weights = unroll(sam_orderings, counts)"
   ]
  },
  {
   "cell_type": "code",
   "execution_count": null,
   "metadata": {},
   "outputs": [],
   "source": []
  },
  {
   "cell_type": "code",
   "execution_count": 42,
   "metadata": {},
   "outputs": [
    {
     "name": "stdout",
     "output_type": "stream",
     "text": [
      " BT:  500  out of  500\n",
      " PL:  500  out of  500\n",
      " MM:  500  out of  500"
     ]
    }
   ],
   "source": [
    "accept = abc(0.8, sam_orderings, sam_weights)"
   ]
  },
  {
   "cell_type": "code",
   "execution_count": 43,
   "metadata": {},
   "outputs": [],
   "source": [
    "M = [[accept[j] / accept[i] for i in range(3)] for j in range(3)]"
   ]
  },
  {
   "cell_type": "code",
   "execution_count": null,
   "metadata": {},
   "outputs": [],
   "source": []
  },
  {
   "cell_type": "code",
   "execution_count": 44,
   "metadata": {},
   "outputs": [
    {
     "data": {
      "text/plain": [
       "<AxesSubplot:>"
      ]
     },
     "execution_count": 44,
     "metadata": {},
     "output_type": "execute_result"
    },
    {
     "data": {
      "image/png": "[encoded data removed]",
      "text/plain": [
       "<Figure size 432x288 with 2 Axes>"
      ]
     },
     "metadata": {
      "needs_background": "light"
     },
     "output_type": "display_data"
    }
   ],
   "source": [
    "sns.heatmap(M, xticklabels=[\"BT\", \"PL\", \"MM\"], yticklabels=[\"BT\", \"PL\", \"MM\"], cmap=\"YlGnBu\")"
   ]
  },
  {
   "cell_type": "code",
   "execution_count": null,
   "metadata": {},
   "outputs": [],
   "source": []
  }
 ],
 "metadata": {
  "kernelspec": {
   "display_name": "Python 3",
   "language": "python",
   "name": "python3"
  },
  "language_info": {
   "codemirror_mode": {
    "name": "ipython",
    "version": 3
   },
   "file_extension": ".py",
   "mimetype": "text/x-python",
   "name": "python",
   "nbconvert_exporter": "python",
   "pygments_lexer": "ipython3",
   "version": "3.8.10"
  }
 },
 "nbformat": 4,
 "nbformat_minor": 4
}
